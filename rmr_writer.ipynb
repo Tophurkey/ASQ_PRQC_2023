{
 "cells": [
  {
   "cell_type": "markdown",
   "metadata": {},
   "source": [
    "Install Langchain Python Package and Python 3.10+"
   ]
  },
  {
   "cell_type": "code",
   "execution_count": 20,
   "metadata": {},
   "outputs": [],
   "source": [
    "from langchain.embeddings import GPT4AllEmbeddings\n",
    "from langchain.document_loaders import PyPDFLoader\n",
    "from langchain.text_splitter import RecursiveCharacterTextSplitter\n",
    "from langchain.vectorstores import FAISS\n",
    "from langchain.chains import RetrievalQA\n",
    "from langchain.chat_models import ChatOpenAI\n",
    "from langchain.prompts import PromptTemplate\n",
    "from langchain import LLMChain, PromptTemplate\n",
    "from langchain.prompts import PromptTemplate\n",
    "\n",
    "# Import PyPDF \n",
    "from PyPDF2 import PdfReader\n",
    "\n",
    "# Import Gradio Tool\n",
    "import gradio as gr\n",
    "\n",
    "import os"
   ]
  },
  {
   "cell_type": "code",
   "execution_count": 3,
   "metadata": {},
   "outputs": [],
   "source": [
    "# get a token: https://platform.openai.com/account/api-keys\n",
    "\n",
    "from getpass import getpass\n",
    "\n",
    "os.environ[\"OPENAI_API_KEY\"] = getpass()"
   ]
  },
  {
   "cell_type": "code",
   "execution_count": 8,
   "metadata": {},
   "outputs": [],
   "source": [
    "llm = ChatOpenAI(temperature = 0.7)"
   ]
  },
  {
   "cell_type": "code",
   "execution_count": 3,
   "metadata": {},
   "outputs": [],
   "source": [
    "# llm(\"What can you tell me about Crypto?\")"
   ]
  },
  {
   "cell_type": "code",
   "execution_count": 5,
   "metadata": {},
   "outputs": [],
   "source": [
    "loader = PyPDFLoader(\"./2023_ASQ_PRQC_Presentation/risk_management_template.pdf\")\n",
    "pages = loader.load_and_split()\n",
    "\n",
    "# text_splitter=RecursiveCharacterTextSplitter(chunk_size=500, chunk_overlap=0)\n",
    "# all_splits = text_splitter.split_documents(pages)"
   ]
  },
  {
   "cell_type": "code",
   "execution_count": 6,
   "metadata": {},
   "outputs": [],
   "source": [
    "vectordb = FAISS.from_documents(pages, embedding=GPT4AllEmbeddings())"
   ]
  },
  {
   "cell_type": "code",
   "execution_count": 33,
   "metadata": {},
   "outputs": [],
   "source": [
    "def rmr_writer(task, history):\n",
    "    template_path = \"./2023_ASQ_PRQC_Presentation/risk_management_template.pdf\"\n",
    "\n",
    "    pdf_reader = PdfReader(template_path)\n",
    "    pdf_text = \"\"\n",
    "    for i, page in enumerate(pdf_reader.pages):\n",
    "        # print(page.extract_text())\n",
    "        pdf_text += page.extract_text() + \"\\n\"\n",
    "\n",
    "    # Define prompt\n",
    "    prompt_text = \"\"\"You are a quality engineer who is responsible for writing the risk management report for a new product. \n",
    "    You must have attention to detail and follow the template provided by the company.\n",
    "    You will be given a task to complete and a template to use for each task. \n",
    "    \n",
    "    Complete this task:\n",
    "    {task}\n",
    "\n",
    "    Using this template:\n",
    "    {pdf_text}\"\"\"\n",
    "\n",
    "    prompt = PromptTemplate.from_template(prompt_text)\n",
    "\n",
    "    prompt.format(pdf_text=pdf_text, task=task)\n",
    "\n",
    "    # Define LLM chain\n",
    "    llm = ChatOpenAI(model = \"gpt-3.5-turbo-16k\",temperature=0.7)\n",
    "    llm_chain = LLMChain(llm=llm, prompt=prompt)\n",
    "\n",
    "    return llm_chain.run(pdf_text = pdf_text, task=task)"
   ]
  },
  {
   "cell_type": "code",
   "execution_count": 34,
   "metadata": {},
   "outputs": [
    {
     "name": "stdout",
     "output_type": "stream",
     "text": [
      "Running on local URL:  http://127.0.0.1:7872\n",
      "\n",
      "To create a public link, set `share=True` in `launch()`.\n"
     ]
    },
    {
     "data": {
      "text/html": [
       "<div><iframe src=\"http://127.0.0.1:7872/\" width=\"100%\" height=\"500\" allow=\"autoplay; camera; microphone; clipboard-read; clipboard-write;\" frameborder=\"0\" allowfullscreen></iframe></div>"
      ],
      "text/plain": [
       "<IPython.core.display.HTML object>"
      ]
     },
     "metadata": {},
     "output_type": "display_data"
    },
    {
     "data": {
      "text/plain": []
     },
     "execution_count": 34,
     "metadata": {},
     "output_type": "execute_result"
    }
   ],
   "source": [
    "app_writer = gr.ChatInterface(rmr_writer)\n",
    "\n",
    "app_writer.launch(share=False)"
   ]
  },
  {
   "cell_type": "markdown",
   "metadata": {},
   "source": [
    "write a risk management report about a bone cement called adhesibone"
   ]
  },
  {
   "cell_type": "code",
   "execution_count": 9,
   "metadata": {},
   "outputs": [
    {
     "name": "stdout",
     "output_type": "stream",
     "text": [
      "Running on local URL:  http://127.0.0.1:7864\n",
      "Running on public URL: https://53bda8ea24e88ccff5.gradio.live\n",
      "\n",
      "This share link expires in 72 hours. For free permanent hosting and GPU upgrades, run `gradio deploy` from Terminal to deploy to Spaces (https://huggingface.co/spaces)\n"
     ]
    },
    {
     "data": {
      "text/html": [
       "<div><iframe src=\"https://53bda8ea24e88ccff5.gradio.live\" width=\"100%\" height=\"500\" allow=\"autoplay; camera; microphone; clipboard-read; clipboard-write;\" frameborder=\"0\" allowfullscreen></iframe></div>"
      ],
      "text/plain": [
       "<IPython.core.display.HTML object>"
      ]
     },
     "metadata": {},
     "output_type": "display_data"
    },
    {
     "data": {
      "text/plain": []
     },
     "execution_count": 9,
     "metadata": {},
     "output_type": "execute_result"
    }
   ],
   "source": [
    "def question2pdf(message, history):\n",
    "    qachain=RetrievalQA.from_chain_type(llm, retriever=vectordb.as_retriever())\n",
    "    return qachain({\"query\": message})['result']\n",
    "\n",
    "app_writer = gr.ChatInterface(question2pdf)\n",
    "\n",
    "app_writer.launch(share=False)"
   ]
  },
  {
   "cell_type": "code",
   "execution_count": 35,
   "metadata": {},
   "outputs": [],
   "source": [
    "app_writer.close()"
   ]
  },
  {
   "cell_type": "code",
   "execution_count": null,
   "metadata": {},
   "outputs": [],
   "source": []
  }
 ],
 "metadata": {
  "kernelspec": {
   "display_name": ".venv",
   "language": "python",
   "name": "python3"
  },
  "language_info": {
   "codemirror_mode": {
    "name": "ipython",
    "version": 3
   },
   "file_extension": ".py",
   "mimetype": "text/x-python",
   "name": "python",
   "nbconvert_exporter": "python",
   "pygments_lexer": "ipython3",
   "version": "3.10.2"
  }
 },
 "nbformat": 4,
 "nbformat_minor": 2
}
